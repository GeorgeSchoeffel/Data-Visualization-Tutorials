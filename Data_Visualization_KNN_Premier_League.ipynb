{
 "cells": [
  {
   "cell_type": "code",
   "execution_count": 1,
   "metadata": {},
   "outputs": [],
   "source": [
    "import pandas as pd\n",
    "import numpy as np\n",
    "import seaborn as sns\n",
    "from sklearn.neighbors import KNeighborsClassifier\n",
    "from sklearn.model_selection import cross_val_score\n",
    "from sklearn.metrics import accuracy_score\n",
    "from sklearn.linear_model import LogisticRegression\n",
    "from sklearn.preprocessing import scale\n",
    "from sklearn.metrics import confusion_matrix\n",
    "from sklearn.model_selection import train_test_split\n",
    "from sklearn.metrics import roc_curve, auc\n",
    "import matplotlib.pyplot as plt\n",
    "from pywaffle import Waffle"
   ]
  },
  {
   "cell_type": "code",
   "execution_count": 2,
   "metadata": {},
   "outputs": [
    {
     "data": {
      "text/html": [
       "<div>\n",
       "<style scoped>\n",
       "    .dataframe tbody tr th:only-of-type {\n",
       "        vertical-align: middle;\n",
       "    }\n",
       "\n",
       "    .dataframe tbody tr th {\n",
       "        vertical-align: top;\n",
       "    }\n",
       "\n",
       "    .dataframe thead th {\n",
       "        text-align: right;\n",
       "    }\n",
       "</style>\n",
       "<table border=\"1\" class=\"dataframe\">\n",
       "  <thead>\n",
       "    <tr style=\"text-align: right;\">\n",
       "      <th></th>\n",
       "      <th>First</th>\n",
       "      <th>Last</th>\n",
       "      <th>Team</th>\n",
       "      <th>Position</th>\n",
       "      <th>Minutes</th>\n",
       "      <th>Cost</th>\n",
       "      <th>CostChange</th>\n",
       "      <th>Dreamteam</th>\n",
       "      <th>SelectedBy</th>\n",
       "      <th>Total</th>\n",
       "      <th>...</th>\n",
       "      <th>Assists</th>\n",
       "      <th>CleanSheets</th>\n",
       "      <th>YellowCards</th>\n",
       "      <th>RedCards</th>\n",
       "      <th>Saves</th>\n",
       "      <th>Bonus</th>\n",
       "      <th>BPS</th>\n",
       "      <th>Pos_lab</th>\n",
       "      <th>TopPlayer</th>\n",
       "      <th>Top50player</th>\n",
       "    </tr>\n",
       "  </thead>\n",
       "  <tbody>\n",
       "    <tr>\n",
       "      <th>0</th>\n",
       "      <td>Mohamed</td>\n",
       "      <td>Salah</td>\n",
       "      <td>Liverpool</td>\n",
       "      <td>Midfielder</td>\n",
       "      <td>2905</td>\n",
       "      <td>106</td>\n",
       "      <td>16</td>\n",
       "      <td>11</td>\n",
       "      <td>56.7</td>\n",
       "      <td>303</td>\n",
       "      <td>...</td>\n",
       "      <td>12</td>\n",
       "      <td>15</td>\n",
       "      <td>1</td>\n",
       "      <td>0</td>\n",
       "      <td>0</td>\n",
       "      <td>26</td>\n",
       "      <td>881</td>\n",
       "      <td>3</td>\n",
       "      <td>1</td>\n",
       "      <td>1</td>\n",
       "    </tr>\n",
       "    <tr>\n",
       "      <th>1</th>\n",
       "      <td>Raheem</td>\n",
       "      <td>Sterling</td>\n",
       "      <td>Man City</td>\n",
       "      <td>Midfielder</td>\n",
       "      <td>2584</td>\n",
       "      <td>91</td>\n",
       "      <td>11</td>\n",
       "      <td>7</td>\n",
       "      <td>27.6</td>\n",
       "      <td>229</td>\n",
       "      <td>...</td>\n",
       "      <td>17</td>\n",
       "      <td>13</td>\n",
       "      <td>3</td>\n",
       "      <td>1</td>\n",
       "      <td>0</td>\n",
       "      <td>19</td>\n",
       "      <td>701</td>\n",
       "      <td>3</td>\n",
       "      <td>1</td>\n",
       "      <td>1</td>\n",
       "    </tr>\n",
       "    <tr>\n",
       "      <th>2</th>\n",
       "      <td>Harry</td>\n",
       "      <td>Kane</td>\n",
       "      <td>Tottenham</td>\n",
       "      <td>Forward</td>\n",
       "      <td>3074</td>\n",
       "      <td>131</td>\n",
       "      <td>6</td>\n",
       "      <td>8</td>\n",
       "      <td>37.7</td>\n",
       "      <td>217</td>\n",
       "      <td>...</td>\n",
       "      <td>2</td>\n",
       "      <td>15</td>\n",
       "      <td>5</td>\n",
       "      <td>0</td>\n",
       "      <td>0</td>\n",
       "      <td>31</td>\n",
       "      <td>781</td>\n",
       "      <td>4</td>\n",
       "      <td>1</td>\n",
       "      <td>1</td>\n",
       "    </tr>\n",
       "    <tr>\n",
       "      <th>3</th>\n",
       "      <td>Kevin</td>\n",
       "      <td>De Bruyne</td>\n",
       "      <td>Man City</td>\n",
       "      <td>Midfielder</td>\n",
       "      <td>3073</td>\n",
       "      <td>103</td>\n",
       "      <td>3</td>\n",
       "      <td>5</td>\n",
       "      <td>21.4</td>\n",
       "      <td>209</td>\n",
       "      <td>...</td>\n",
       "      <td>18</td>\n",
       "      <td>19</td>\n",
       "      <td>2</td>\n",
       "      <td>0</td>\n",
       "      <td>0</td>\n",
       "      <td>25</td>\n",
       "      <td>872</td>\n",
       "      <td>3</td>\n",
       "      <td>1</td>\n",
       "      <td>1</td>\n",
       "    </tr>\n",
       "    <tr>\n",
       "      <th>4</th>\n",
       "      <td>Christian</td>\n",
       "      <td>Eriksen</td>\n",
       "      <td>Tottenham</td>\n",
       "      <td>Midfielder</td>\n",
       "      <td>3218</td>\n",
       "      <td>97</td>\n",
       "      <td>2</td>\n",
       "      <td>3</td>\n",
       "      <td>19.4</td>\n",
       "      <td>199</td>\n",
       "      <td>...</td>\n",
       "      <td>10</td>\n",
       "      <td>17</td>\n",
       "      <td>4</td>\n",
       "      <td>0</td>\n",
       "      <td>0</td>\n",
       "      <td>23</td>\n",
       "      <td>826</td>\n",
       "      <td>3</td>\n",
       "      <td>1</td>\n",
       "      <td>1</td>\n",
       "    </tr>\n",
       "  </tbody>\n",
       "</table>\n",
       "<p>5 rows × 22 columns</p>\n",
       "</div>"
      ],
      "text/plain": [
       "       First       Last       Team    Position  Minutes  Cost  CostChange  \\\n",
       "0    Mohamed      Salah  Liverpool  Midfielder     2905   106          16   \n",
       "1     Raheem   Sterling   Man City  Midfielder     2584    91          11   \n",
       "2      Harry       Kane  Tottenham     Forward     3074   131           6   \n",
       "3      Kevin  De Bruyne   Man City  Midfielder     3073   103           3   \n",
       "4  Christian    Eriksen  Tottenham  Midfielder     3218    97           2   \n",
       "\n",
       "   Dreamteam  SelectedBy  Total     ...       Assists  CleanSheets  \\\n",
       "0         11        56.7    303     ...            12           15   \n",
       "1          7        27.6    229     ...            17           13   \n",
       "2          8        37.7    217     ...             2           15   \n",
       "3          5        21.4    209     ...            18           19   \n",
       "4          3        19.4    199     ...            10           17   \n",
       "\n",
       "   YellowCards  RedCards  Saves  Bonus  BPS  Pos_lab  TopPlayer  Top50player  \n",
       "0            1         0      0     26  881        3          1            1  \n",
       "1            3         1      0     19  701        3          1            1  \n",
       "2            5         0      0     31  781        4          1            1  \n",
       "3            2         0      0     25  872        3          1            1  \n",
       "4            4         0      0     23  826        3          1            1  \n",
       "\n",
       "[5 rows x 22 columns]"
      ]
     },
     "execution_count": 2,
     "metadata": {},
     "output_type": "execute_result"
    }
   ],
   "source": [
    "data = pd.read_csv('FPL_data2_machinelearn.csv', encoding='latin-1')\n",
    "data.head()"
   ]
  },
  {
   "cell_type": "code",
   "execution_count": 3,
   "metadata": {},
   "outputs": [],
   "source": [
    "Top_50 = data[\"Top50player\"]\n",
    "TopPlayer = data['TopPlayer']"
   ]
  },
  {
   "cell_type": "code",
   "execution_count": 4,
   "metadata": {},
   "outputs": [
    {
     "name": "stdout",
     "output_type": "stream",
     "text": [
      "0.9411764705882353\n"
     ]
    },
    {
     "data": {
      "text/plain": [
       "<matplotlib.axes._subplots.AxesSubplot at 0x1a151cce48>"
      ]
     },
     "execution_count": 4,
     "metadata": {},
     "output_type": "execute_result"
    },
    {
     "data": {
      "image/png": "[encoded data removed]",
      "text/plain": [
       "<Figure size 432x288 with 1 Axes>"
      ]
     },
     "metadata": {},
     "output_type": "display_data"
    }
   ],
   "source": [
    "manyplayers = data[data['Pos_lab'] != 1]\n",
    "manyplayers.head()\n",
    "\n",
    "varofint = data[['Goals','CleanSheets']]\n",
    "\n",
    "X_train, X_test, Y_train, Y_test = train_test_split(varofint, TopPlayer, test_size=0.10)\n",
    "\n",
    "k5 = KNeighborsClassifier(n_neighbors = 5)\n",
    "\n",
    "k5.fit(varofint, TopPlayer)\n",
    "Y_k5_predict = k5.predict(varofint)\n",
    "print(accuracy_score(TopPlayer,Y_k5_predict))\n",
    "data['Predicted'] = Y_k5_predict\n",
    "data\n",
    "\n",
    "item_list = []\n",
    "for i in range(289):\n",
    "    if Y_k5_predict[i] == TopPlayer[i]:\n",
    "        item_list.append('true')\n",
    "    else:\n",
    "        item_list.append('false')\n",
    "len(item_list)\n",
    "item_list\n",
    "\n",
    "c_list = []\n",
    "for k in item_list:\n",
    "    if k == 'true':\n",
    "        c_list.append('blue')\n",
    "    if k == 'false':\n",
    "        c_list.append('brown')\n",
    "c_list\n",
    "data['color'] = c_list\n",
    "\n",
    "plot = data.plot(kind='scatter',\n",
    "         x='Goals',\n",
    "         y='CleanSheets',\n",
    "        title='Model Accuracy',\n",
    "         c=data['color'])\n",
    "plot"
   ]
  },
  {
   "cell_type": "code",
   "execution_count": 5,
   "metadata": {},
   "outputs": [
    {
     "data": {
      "image/png": "[encoded data removed]",
      "text/plain": [
       "<Figure size 432x288 with 1 Axes>"
      ]
     },
     "metadata": {},
     "output_type": "display_data"
    }
   ],
   "source": [
    "c_list = []\n",
    "for k in Y_k5_predict:\n",
    "    if k == 1:\n",
    "        c_list.append('blue')\n",
    "    if k == 0:\n",
    "        c_list.append('brown')\n",
    "\n",
    "data['color'] = c_list\n",
    "\n",
    "plot = data.plot(kind='scatter',\n",
    "         x='Goals',\n",
    "         y='CleanSheets',\n",
    "        title='Model Prediction of Player',\n",
    "         c=data['color'],\n",
    "        legend = False)"
   ]
  },
  {
   "cell_type": "code",
   "execution_count": 6,
   "metadata": {},
   "outputs": [
    {
     "data": {
      "image/png": "[encoded data removed]",
      "text/plain": [
       "<Figure size 432x288 with 1 Axes>"
      ]
     },
     "metadata": {},
     "output_type": "display_data"
    }
   ],
   "source": [
    "c_list = []\n",
    "for k in TopPlayer:\n",
    "    if k == 1:\n",
    "        c_list.append('blue')\n",
    "    if k == 0:\n",
    "        c_list.append('brown')\n",
    "\n",
    "data['color'] = c_list\n",
    "\n",
    "plot = data.plot(kind='scatter',\n",
    "         x='Goals',\n",
    "         y='CleanSheets',\n",
    "        title='Top Players',\n",
    "         c=data['color'])"
   ]
  },
  {
   "cell_type": "code",
   "execution_count": 7,
   "metadata": {},
   "outputs": [
    {
     "data": {
      "text/html": [
       "<div>\n",
       "<style scoped>\n",
       "    .dataframe tbody tr th:only-of-type {\n",
       "        vertical-align: middle;\n",
       "    }\n",
       "\n",
       "    .dataframe tbody tr th {\n",
       "        vertical-align: top;\n",
       "    }\n",
       "\n",
       "    .dataframe thead th {\n",
       "        text-align: right;\n",
       "    }\n",
       "</style>\n",
       "<table border=\"1\" class=\"dataframe\">\n",
       "  <thead>\n",
       "    <tr style=\"text-align: right;\">\n",
       "      <th></th>\n",
       "      <th>Minutes</th>\n",
       "      <th>Cost</th>\n",
       "      <th>CostChange</th>\n",
       "      <th>Dreamteam</th>\n",
       "      <th>SelectedBy</th>\n",
       "      <th>PointsPerMatch</th>\n",
       "      <th>Goals</th>\n",
       "      <th>Assists</th>\n",
       "      <th>CleanSheets</th>\n",
       "      <th>YellowCards</th>\n",
       "      <th>RedCards</th>\n",
       "      <th>Saves</th>\n",
       "      <th>Bonus</th>\n",
       "      <th>BPS</th>\n",
       "    </tr>\n",
       "  </thead>\n",
       "  <tbody>\n",
       "    <tr>\n",
       "      <th>0</th>\n",
       "      <td>2905</td>\n",
       "      <td>106</td>\n",
       "      <td>16</td>\n",
       "      <td>11</td>\n",
       "      <td>56.7</td>\n",
       "      <td>8.4</td>\n",
       "      <td>32</td>\n",
       "      <td>12</td>\n",
       "      <td>15</td>\n",
       "      <td>1</td>\n",
       "      <td>0</td>\n",
       "      <td>0</td>\n",
       "      <td>26</td>\n",
       "      <td>881</td>\n",
       "    </tr>\n",
       "    <tr>\n",
       "      <th>1</th>\n",
       "      <td>2584</td>\n",
       "      <td>91</td>\n",
       "      <td>11</td>\n",
       "      <td>7</td>\n",
       "      <td>27.6</td>\n",
       "      <td>6.9</td>\n",
       "      <td>18</td>\n",
       "      <td>17</td>\n",
       "      <td>13</td>\n",
       "      <td>3</td>\n",
       "      <td>1</td>\n",
       "      <td>0</td>\n",
       "      <td>19</td>\n",
       "      <td>701</td>\n",
       "    </tr>\n",
       "    <tr>\n",
       "      <th>2</th>\n",
       "      <td>3074</td>\n",
       "      <td>131</td>\n",
       "      <td>6</td>\n",
       "      <td>8</td>\n",
       "      <td>37.7</td>\n",
       "      <td>5.9</td>\n",
       "      <td>29</td>\n",
       "      <td>2</td>\n",
       "      <td>15</td>\n",
       "      <td>5</td>\n",
       "      <td>0</td>\n",
       "      <td>0</td>\n",
       "      <td>31</td>\n",
       "      <td>781</td>\n",
       "    </tr>\n",
       "    <tr>\n",
       "      <th>3</th>\n",
       "      <td>3073</td>\n",
       "      <td>103</td>\n",
       "      <td>3</td>\n",
       "      <td>5</td>\n",
       "      <td>21.4</td>\n",
       "      <td>5.6</td>\n",
       "      <td>8</td>\n",
       "      <td>18</td>\n",
       "      <td>19</td>\n",
       "      <td>2</td>\n",
       "      <td>0</td>\n",
       "      <td>0</td>\n",
       "      <td>25</td>\n",
       "      <td>872</td>\n",
       "    </tr>\n",
       "    <tr>\n",
       "      <th>4</th>\n",
       "      <td>3218</td>\n",
       "      <td>97</td>\n",
       "      <td>2</td>\n",
       "      <td>3</td>\n",
       "      <td>19.4</td>\n",
       "      <td>5.4</td>\n",
       "      <td>11</td>\n",
       "      <td>10</td>\n",
       "      <td>17</td>\n",
       "      <td>4</td>\n",
       "      <td>0</td>\n",
       "      <td>0</td>\n",
       "      <td>23</td>\n",
       "      <td>826</td>\n",
       "    </tr>\n",
       "  </tbody>\n",
       "</table>\n",
       "</div>"
      ],
      "text/plain": [
       "   Minutes  Cost  CostChange  Dreamteam  SelectedBy  PointsPerMatch  Goals  \\\n",
       "0     2905   106          16         11        56.7             8.4     32   \n",
       "1     2584    91          11          7        27.6             6.9     18   \n",
       "2     3074   131           6          8        37.7             5.9     29   \n",
       "3     3073   103           3          5        21.4             5.6      8   \n",
       "4     3218    97           2          3        19.4             5.4     11   \n",
       "\n",
       "   Assists  CleanSheets  YellowCards  RedCards  Saves  Bonus  BPS  \n",
       "0       12           15            1         0      0     26  881  \n",
       "1       17           13            3         1      0     19  701  \n",
       "2        2           15            5         0      0     31  781  \n",
       "3       18           19            2         0      0     25  872  \n",
       "4       10           17            4         0      0     23  826  "
      ]
     },
     "execution_count": 7,
     "metadata": {},
     "output_type": "execute_result"
    }
   ],
   "source": [
    "keep_these_vars = ['Minutes', 'Cost', 'CostChange', 'Dreamteam', 'SelectedBy', \n",
    "                   'PointsPerMatch', 'Goals', 'Assists',\n",
    "                   'CleanSheets', 'YellowCards', 'RedCards', 'Saves', 'Bonus', 'BPS'\n",
    "                  ]\n",
    "predictors = data[keep_these_vars]\n",
    "predictors.head()"
   ]
  },
  {
   "cell_type": "code",
   "execution_count": 8,
   "metadata": {},
   "outputs": [],
   "source": [
    "X_train, X_test, Y_train, Y_test = train_test_split(predictors, Top_50, test_size=0.10)"
   ]
  },
  {
   "cell_type": "code",
   "execution_count": 9,
   "metadata": {},
   "outputs": [
    {
     "name": "stdout",
     "output_type": "stream",
     "text": [
      "0.9134948096885813\n"
     ]
    }
   ],
   "source": [
    "k5 = KNeighborsClassifier(n_neighbors = 5)\n",
    "k5.fit(predictors, Top_50)\n",
    "Y_k5_predict = k5.predict(predictors)\n",
    "print(accuracy_score(Top_50,Y_k5_predict))"
   ]
  },
  {
   "cell_type": "code",
   "execution_count": 10,
   "metadata": {},
   "outputs": [
    {
     "name": "stdout",
     "output_type": "stream",
     "text": [
      "\n",
      "=======================================\n",
      "                        True Value\n",
      "Predicted Value     Positive   Negative\n",
      "        Positive    31       6\n",
      "        Negative    19        233\n",
      "=======================================\n",
      "\n"
     ]
    }
   ],
   "source": [
    "true_positive = 0\n",
    "true_negative = 0 \n",
    "false_positive = 0 \n",
    "false_negative = 0\n",
    "\n",
    "for model_result in zip(Y_k5_predict, Top_50):\n",
    "    #Create the true positive situation and add one for every occurance\n",
    "    if model_result == (1,1):\n",
    "        true_positive += 1\n",
    "    #Create the true negative situation and add one for every occurance\n",
    "    elif model_result == (0,0):\n",
    "        true_negative += 1\n",
    "    #Create the false positive situation e.g. model says republican won when democrat won and add one for every occurance\n",
    "    elif model_result == (1,0):\n",
    "        false_positive += 1\n",
    "    #Create the false negative situation e.g. model says democrat won when republican won and add one for every occurance\n",
    "    elif model_result == (0,1):\n",
    "        false_negative += 1\n",
    "\n",
    "print(f'''\n",
    "=======================================\n",
    "                        True Value\n",
    "Predicted Value     Positive   Negative\n",
    "        Positive    {true_positive}       {false_positive}\n",
    "        Negative    {false_negative}        {true_negative}\n",
    "=======================================\n",
    "''')"
   ]
  },
  {
   "cell_type": "code",
   "execution_count": null,
   "metadata": {},
   "outputs": [],
   "source": []
  },
  {
   "cell_type": "code",
   "execution_count": 11,
   "metadata": {},
   "outputs": [
    {
     "name": "stdout",
     "output_type": "stream",
     "text": [
      "AUC:  0.79744769874477\n"
     ]
    }
   ],
   "source": [
    "X_train, X_test, Y_train, Y_test = train_test_split(predictors, Top_50, test_size=0.10)\n",
    "false_positive_rate, true_positive_rate, thresholds = roc_curve(Top_50, Y_k5_predict, pos_label=1)\n",
    "rates = pd.DataFrame(dict(fpr=false_positive_rate, tpr=true_positive_rate))\n",
    "roc_auc = auc(rates['fpr'], rates['tpr'])\n",
    "print('AUC: ', roc_auc)"
   ]
  },
  {
   "cell_type": "code",
   "execution_count": 12,
   "metadata": {},
   "outputs": [
    {
     "data": {
      "image/png": "[encoded data removed]",
      "text/plain": [
       "<Figure size 432x288 with 1 Axes>"
      ]
     },
     "metadata": {},
     "output_type": "display_data"
    }
   ],
   "source": [
    "plt.plot(rates.fpr, rates.tpr, 'b', label = 'AUC = %0.2f' % roc_auc)\n",
    "plt.plot([0, 1], [0, 1],'r--')\n",
    "plt.xlim([0, 1])\n",
    "plt.ylim([0, 1])\n",
    "plt.ylabel('True Positive Rate')\n",
    "plt.xlabel('False Positive Rate')\n",
    "plt.title('Receiver Operating Characteristic (ROC Curve)')\n",
    "plt.legend(loc = 'lower right')\n",
    "plt.show()"
   ]
  },
  {
   "cell_type": "code",
   "execution_count": 13,
   "metadata": {},
   "outputs": [
    {
     "data": {
      "text/html": [
       "<div>\n",
       "<style scoped>\n",
       "    .dataframe tbody tr th:only-of-type {\n",
       "        vertical-align: middle;\n",
       "    }\n",
       "\n",
       "    .dataframe tbody tr th {\n",
       "        vertical-align: top;\n",
       "    }\n",
       "\n",
       "    .dataframe thead th {\n",
       "        text-align: right;\n",
       "    }\n",
       "</style>\n",
       "<table border=\"1\" class=\"dataframe\">\n",
       "  <thead>\n",
       "    <tr style=\"text-align: right;\">\n",
       "      <th></th>\n",
       "      <th>Classification</th>\n",
       "      <th>Number</th>\n",
       "    </tr>\n",
       "  </thead>\n",
       "  <tbody>\n",
       "    <tr>\n",
       "      <th>0</th>\n",
       "      <td>Correctly Predicts Player as a Star Player</td>\n",
       "      <td>31</td>\n",
       "    </tr>\n",
       "    <tr>\n",
       "      <th>1</th>\n",
       "      <td>Incorrectly Predicts Player as a Star Player</td>\n",
       "      <td>6</td>\n",
       "    </tr>\n",
       "    <tr>\n",
       "      <th>2</th>\n",
       "      <td>Incorrectly Predicts Player as an Average Player</td>\n",
       "      <td>19</td>\n",
       "    </tr>\n",
       "    <tr>\n",
       "      <th>3</th>\n",
       "      <td>Correctly Predicts Player as an Average Player</td>\n",
       "      <td>233</td>\n",
       "    </tr>\n",
       "  </tbody>\n",
       "</table>\n",
       "</div>"
      ],
      "text/plain": [
       "                                     Classification  Number\n",
       "0        Correctly Predicts Player as a Star Player      31\n",
       "1      Incorrectly Predicts Player as a Star Player       6\n",
       "2  Incorrectly Predicts Player as an Average Player      19\n",
       "3    Correctly Predicts Player as an Average Player     233"
      ]
     },
     "execution_count": 13,
     "metadata": {},
     "output_type": "execute_result"
    }
   ],
   "source": [
    "players = pd.DataFrame({\n",
    "    'Classification': ['Correctly Predicts Player as a Star Player', 'Incorrectly Predicts Player as a Star Player', \n",
    "                       'Incorrectly Predicts Player as an Average Player', 'Correctly Predicts Player as an Average Player'],\n",
    "    'Number': [31, 6, 19, 233]\n",
    "})\n",
    "players"
   ]
  },
  {
   "cell_type": "code",
   "execution_count": 29,
   "metadata": {},
   "outputs": [
    {
     "name": "stderr",
     "output_type": "stream",
     "text": [
      "/Users/johnschoeffel/anaconda3/lib/python3.6/site-packages/matplotlib/figure.py:2267: UserWarning: This figure includes Axes that are not compatible with tight_layout, so results might be incorrect.\n",
      "  warnings.warn(\"This figure includes Axes that are not compatible \"\n"
     ]
    },
    {
     "data": {
      "image/png": "[encoded data removed]",
      "text/plain": [
       "<Waffle size 432x288 with 1 Axes>"
      ]
     },
     "metadata": {},
     "output_type": "display_data"
    }
   ],
   "source": [
    "fig = plt.figure(\n",
    "    FigureClass=Waffle, \n",
    "    rows=13,\n",
    "    values=players.Number,\n",
    "    labels=list(players.Classification),\n",
    "    colors=[\"#983D3D\", \"#232066\", \"#DCB732\", '#40B0A6'],\n",
    "     title={\n",
    "        'label': 'KNN Modeling Error',\n",
    "        'loc': 'left',\n",
    "        'fontdict': {\n",
    "            'fontsize': 18}}\n",
    ")"
   ]
  },
  {
   "cell_type": "code",
   "execution_count": 15,
   "metadata": {},
   "outputs": [
    {
     "data": {
      "text/html": [
       "<div>\n",
       "<style scoped>\n",
       "    .dataframe tbody tr th:only-of-type {\n",
       "        vertical-align: middle;\n",
       "    }\n",
       "\n",
       "    .dataframe tbody tr th {\n",
       "        vertical-align: top;\n",
       "    }\n",
       "\n",
       "    .dataframe thead th {\n",
       "        text-align: right;\n",
       "    }\n",
       "</style>\n",
       "<table border=\"1\" class=\"dataframe\">\n",
       "  <thead>\n",
       "    <tr style=\"text-align: right;\">\n",
       "      <th></th>\n",
       "      <th>Classification</th>\n",
       "      <th>Number</th>\n",
       "    </tr>\n",
       "  </thead>\n",
       "  <tbody>\n",
       "    <tr>\n",
       "      <th>0</th>\n",
       "      <td>Model is Correct</td>\n",
       "      <td>264</td>\n",
       "    </tr>\n",
       "    <tr>\n",
       "      <th>1</th>\n",
       "      <td>Model is Incorrect</td>\n",
       "      <td>25</td>\n",
       "    </tr>\n",
       "  </tbody>\n",
       "</table>\n",
       "</div>"
      ],
      "text/plain": [
       "       Classification  Number\n",
       "0    Model is Correct     264\n",
       "1  Model is Incorrect      25"
      ]
     },
     "execution_count": 15,
     "metadata": {},
     "output_type": "execute_result"
    }
   ],
   "source": [
    "totalcorrect = pd.DataFrame({\n",
    "    'Classification': ['Model is Correct', 'Model is Incorrect'],\n",
    "    'Number': [264, 25]\n",
    "})\n",
    "totalcorrect"
   ]
  },
  {
   "cell_type": "code",
   "execution_count": 28,
   "metadata": {},
   "outputs": [
    {
     "name": "stderr",
     "output_type": "stream",
     "text": [
      "/Users/johnschoeffel/anaconda3/lib/python3.6/site-packages/matplotlib/figure.py:2267: UserWarning: This figure includes Axes that are not compatible with tight_layout, so results might be incorrect.\n",
      "  warnings.warn(\"This figure includes Axes that are not compatible \"\n"
     ]
    },
    {
     "data": {
      "image/png": "[encoded data removed]",
      "text/plain": [
       "<Waffle size 432x288 with 1 Axes>"
      ]
     },
     "metadata": {},
     "output_type": "display_data"
    }
   ],
   "source": [
    "fig = plt.figure(\n",
    "    FigureClass=Waffle, \n",
    "    rows=13,\n",
    "    values=totalcorrect.Number,\n",
    "    labels=list(totalcorrect.Classification),\n",
    "    colors=[\"#983D3D\", \"#40B0A6\"],\n",
    "     title={\n",
    "        'label': 'KNN Model Prediction Accuracy',\n",
    "        'loc': 'left',\n",
    "        'fontdict': {\n",
    "            'fontsize': 18}}\n",
    ")"
   ]
  },
  {
   "cell_type": "code",
   "execution_count": 17,
   "metadata": {},
   "outputs": [],
   "source": [
    "X_train, X_test, Y_train, Y_test = train_test_split(predictors, TopPlayer, test_size=0.10)"
   ]
  },
  {
   "cell_type": "code",
   "execution_count": 18,
   "metadata": {},
   "outputs": [
    {
     "name": "stdout",
     "output_type": "stream",
     "text": [
      "0.9377162629757786\n"
     ]
    }
   ],
   "source": [
    "k5 = KNeighborsClassifier(n_neighbors = 5)\n",
    "k5.fit(predictors, TopPlayer)\n",
    "Y_k5_predict = k5.predict(predictors)\n",
    "print(accuracy_score(TopPlayer,Y_k5_predict))"
   ]
  },
  {
   "cell_type": "code",
   "execution_count": 19,
   "metadata": {},
   "outputs": [
    {
     "name": "stdout",
     "output_type": "stream",
     "text": [
      "\n",
      "=======================================\n",
      "                        True Value\n",
      "Predicted Value     Positive   Negative\n",
      "        Positive    19       2\n",
      "        Negative    16        252\n",
      "=======================================\n",
      "\n"
     ]
    }
   ],
   "source": [
    "true_positive = 0\n",
    "true_negative = 0 \n",
    "false_positive = 0 \n",
    "false_negative = 0\n",
    "\n",
    "for model_result in zip(Y_k5_predict, TopPlayer):\n",
    "    #Create the true positive situation and add one for every occurance\n",
    "    if model_result == (1,1):\n",
    "        true_positive += 1\n",
    "    #Create the true negative situation and add one for every occurance\n",
    "    elif model_result == (0,0):\n",
    "        true_negative += 1\n",
    "    #Create the false positive situation e.g. model says republican won when democrat won and add one for every occurance\n",
    "    elif model_result == (1,0):\n",
    "        false_positive += 1\n",
    "    #Create the false negative situation e.g. model says democrat won when republican won and add one for every occurance\n",
    "    elif model_result == (0,1):\n",
    "        false_negative += 1\n",
    "\n",
    "print(f'''\n",
    "=======================================\n",
    "                        True Value\n",
    "Predicted Value     Positive   Negative\n",
    "        Positive    {true_positive}       {false_positive}\n",
    "        Negative    {false_negative}        {true_negative}\n",
    "=======================================\n",
    "''')"
   ]
  },
  {
   "cell_type": "code",
   "execution_count": null,
   "metadata": {},
   "outputs": [],
   "source": []
  }
 ],
 "metadata": {
  "kernelspec": {
   "display_name": "Python 3",
   "language": "python",
   "name": "python3"
  },
  "language_info": {
   "codemirror_mode": {
    "name": "ipython",
    "version": 3
   },
   "file_extension": ".py",
   "mimetype": "text/x-python",
   "name": "python",
   "nbconvert_exporter": "python",
   "pygments_lexer": "ipython3",
   "version": "3.6.5"
  }
 },
 "nbformat": 4,
 "nbformat_minor": 2
}
